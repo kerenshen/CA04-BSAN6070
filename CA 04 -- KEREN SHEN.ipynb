{
 "cells": [
  {
   "cell_type": "code",
   "execution_count": 1,
   "id": "f0254a7f",
   "metadata": {},
   "outputs": [],
   "source": [
    "# import packages\n",
    "import pandas as pd\n",
    "import numpy as np\n",
    "import matplotlib.pyplot as plt\n",
    "from sklearn.model_selection import train_test_split\n",
    "from sklearn.ensemble import RandomForestClassifier, AdaBoostClassifier, GradientBoostingClassifier\n",
    "from sklearn import metrics\n",
    "from sklearn.tree import DecisionTreeClassifier\n",
    "from category_encoders import OrdinalEncoder\n",
    "from sklearn.ensemble import RandomForestClassifier\n",
    "from sklearn.ensemble import AdaBoostClassifier\n",
    "from sklearn.ensemble import GradientBoostingClassifier\n",
    "from xgboost import XGBClassifier\n",
    "from sklearn.metrics import classification_report, confusion_matrix\n",
    "from sklearn.metrics import roc_curve\n",
    "from sklearn.metrics import auc\n",
    "from sklearn.metrics import roc_auc_score\n",
    "from sklearn.metrics import accuracy_score\n",
    "from sklearn.metrics import precision_score\n",
    "from sklearn.metrics import f1_score\n",
    "from sklearn.metrics import recall_score"
   ]
  },
  {
   "cell_type": "markdown",
   "id": "b390a2b8",
   "metadata": {},
   "source": [
    "# Data"
   ]
  },
  {
   "cell_type": "code",
   "execution_count": 2,
   "id": "b79cef9f",
   "metadata": {},
   "outputs": [
    {
     "data": {
      "text/html": [
       "<div>\n",
       "<style scoped>\n",
       "    .dataframe tbody tr th:only-of-type {\n",
       "        vertical-align: middle;\n",
       "    }\n",
       "\n",
       "    .dataframe tbody tr th {\n",
       "        vertical-align: top;\n",
       "    }\n",
       "\n",
       "    .dataframe thead th {\n",
       "        text-align: right;\n",
       "    }\n",
       "</style>\n",
       "<table border=\"1\" class=\"dataframe\">\n",
       "  <thead>\n",
       "    <tr style=\"text-align: right;\">\n",
       "      <th></th>\n",
       "      <th>hours_per_week_bin</th>\n",
       "      <th>occupation_bin</th>\n",
       "      <th>msr_bin</th>\n",
       "      <th>capital_gl_bin</th>\n",
       "      <th>race_sex_bin</th>\n",
       "      <th>education_num_bin</th>\n",
       "      <th>education_bin</th>\n",
       "      <th>workclass_bin</th>\n",
       "      <th>age_bin</th>\n",
       "      <th>flag</th>\n",
       "      <th>y</th>\n",
       "    </tr>\n",
       "  </thead>\n",
       "  <tbody>\n",
       "    <tr>\n",
       "      <th>0</th>\n",
       "      <td>b. 31-40</td>\n",
       "      <td>b. Mid - Low</td>\n",
       "      <td>b. Mid</td>\n",
       "      <td>c. &gt; 0</td>\n",
       "      <td>c. High</td>\n",
       "      <td>c. 13</td>\n",
       "      <td>c. Bachelors</td>\n",
       "      <td>b. income</td>\n",
       "      <td>d. 36-40 &amp; 56-60</td>\n",
       "      <td>train</td>\n",
       "      <td>0</td>\n",
       "    </tr>\n",
       "    <tr>\n",
       "      <th>1</th>\n",
       "      <td>a. 0-30</td>\n",
       "      <td>e. High</td>\n",
       "      <td>c. High</td>\n",
       "      <td>a. = 0</td>\n",
       "      <td>c. High</td>\n",
       "      <td>c. 13</td>\n",
       "      <td>c. Bachelors</td>\n",
       "      <td>b. income</td>\n",
       "      <td>e. 40-55</td>\n",
       "      <td>train</td>\n",
       "      <td>0</td>\n",
       "    </tr>\n",
       "    <tr>\n",
       "      <th>2</th>\n",
       "      <td>b. 31-40</td>\n",
       "      <td>a. Low</td>\n",
       "      <td>b. Mid</td>\n",
       "      <td>a. = 0</td>\n",
       "      <td>c. High</td>\n",
       "      <td>b. 9-12</td>\n",
       "      <td>b. Mid</td>\n",
       "      <td>b. income</td>\n",
       "      <td>d. 36-40 &amp; 56-60</td>\n",
       "      <td>train</td>\n",
       "      <td>0</td>\n",
       "    </tr>\n",
       "    <tr>\n",
       "      <th>3</th>\n",
       "      <td>b. 31-40</td>\n",
       "      <td>a. Low</td>\n",
       "      <td>c. High</td>\n",
       "      <td>a. = 0</td>\n",
       "      <td>b. Mid</td>\n",
       "      <td>a. 0-8</td>\n",
       "      <td>a. Low</td>\n",
       "      <td>b. income</td>\n",
       "      <td>e. 40-55</td>\n",
       "      <td>train</td>\n",
       "      <td>0</td>\n",
       "    </tr>\n",
       "    <tr>\n",
       "      <th>4</th>\n",
       "      <td>b. 31-40</td>\n",
       "      <td>e. High</td>\n",
       "      <td>c. High</td>\n",
       "      <td>a. = 0</td>\n",
       "      <td>a. Low</td>\n",
       "      <td>c. 13</td>\n",
       "      <td>c. Bachelors</td>\n",
       "      <td>b. income</td>\n",
       "      <td>b. 26-30 &amp; 71-100</td>\n",
       "      <td>train</td>\n",
       "      <td>0</td>\n",
       "    </tr>\n",
       "  </tbody>\n",
       "</table>\n",
       "</div>"
      ],
      "text/plain": [
       "  hours_per_week_bin occupation_bin  msr_bin capital_gl_bin race_sex_bin  \\\n",
       "0           b. 31-40   b. Mid - Low   b. Mid         c. > 0      c. High   \n",
       "1            a. 0-30        e. High  c. High         a. = 0      c. High   \n",
       "2           b. 31-40         a. Low   b. Mid         a. = 0      c. High   \n",
       "3           b. 31-40         a. Low  c. High         a. = 0       b. Mid   \n",
       "4           b. 31-40        e. High  c. High         a. = 0       a. Low   \n",
       "\n",
       "  education_num_bin education_bin workclass_bin            age_bin   flag  y  \n",
       "0             c. 13  c. Bachelors     b. income   d. 36-40 & 56-60  train  0  \n",
       "1             c. 13  c. Bachelors     b. income           e. 40-55  train  0  \n",
       "2           b. 9-12        b. Mid     b. income   d. 36-40 & 56-60  train  0  \n",
       "3            a. 0-8        a. Low     b. income           e. 40-55  train  0  \n",
       "4             c. 13  c. Bachelors     b. income  b. 26-30 & 71-100  train  0  "
      ]
     },
     "execution_count": 2,
     "metadata": {},
     "output_type": "execute_result"
    }
   ],
   "source": [
    "# read the data\n",
    "data = pd.read_csv('census_data.csv')\n",
    "data.head()"
   ]
  },
  {
   "cell_type": "code",
   "execution_count": 3,
   "id": "3a12e663",
   "metadata": {},
   "outputs": [
    {
     "data": {
      "text/html": [
       "<div>\n",
       "<style scoped>\n",
       "    .dataframe tbody tr th:only-of-type {\n",
       "        vertical-align: middle;\n",
       "    }\n",
       "\n",
       "    .dataframe tbody tr th {\n",
       "        vertical-align: top;\n",
       "    }\n",
       "\n",
       "    .dataframe thead th {\n",
       "        text-align: right;\n",
       "    }\n",
       "</style>\n",
       "<table border=\"1\" class=\"dataframe\">\n",
       "  <thead>\n",
       "    <tr style=\"text-align: right;\">\n",
       "      <th></th>\n",
       "      <th>hours_per_week_bin</th>\n",
       "      <th>occupation_bin</th>\n",
       "      <th>msr_bin</th>\n",
       "      <th>capital_gl_bin</th>\n",
       "      <th>race_sex_bin</th>\n",
       "      <th>education_num_bin</th>\n",
       "      <th>education_bin</th>\n",
       "      <th>workclass_bin</th>\n",
       "      <th>age_bin</th>\n",
       "      <th>flag</th>\n",
       "      <th>y</th>\n",
       "    </tr>\n",
       "  </thead>\n",
       "  <tbody>\n",
       "    <tr>\n",
       "      <th>32556</th>\n",
       "      <td>2</td>\n",
       "      <td>4</td>\n",
       "      <td>3</td>\n",
       "      <td>1</td>\n",
       "      <td>2</td>\n",
       "      <td>2</td>\n",
       "      <td>2</td>\n",
       "      <td>2</td>\n",
       "      <td>2</td>\n",
       "      <td>train</td>\n",
       "      <td>0</td>\n",
       "    </tr>\n",
       "    <tr>\n",
       "      <th>32557</th>\n",
       "      <td>2</td>\n",
       "      <td>2</td>\n",
       "      <td>3</td>\n",
       "      <td>1</td>\n",
       "      <td>3</td>\n",
       "      <td>2</td>\n",
       "      <td>2</td>\n",
       "      <td>2</td>\n",
       "      <td>4</td>\n",
       "      <td>train</td>\n",
       "      <td>1</td>\n",
       "    </tr>\n",
       "    <tr>\n",
       "      <th>32558</th>\n",
       "      <td>2</td>\n",
       "      <td>2</td>\n",
       "      <td>2</td>\n",
       "      <td>1</td>\n",
       "      <td>2</td>\n",
       "      <td>2</td>\n",
       "      <td>2</td>\n",
       "      <td>2</td>\n",
       "      <td>4</td>\n",
       "      <td>train</td>\n",
       "      <td>0</td>\n",
       "    </tr>\n",
       "    <tr>\n",
       "      <th>32559</th>\n",
       "      <td>1</td>\n",
       "      <td>2</td>\n",
       "      <td>1</td>\n",
       "      <td>1</td>\n",
       "      <td>3</td>\n",
       "      <td>2</td>\n",
       "      <td>2</td>\n",
       "      <td>2</td>\n",
       "      <td>1</td>\n",
       "      <td>train</td>\n",
       "      <td>0</td>\n",
       "    </tr>\n",
       "    <tr>\n",
       "      <th>32560</th>\n",
       "      <td>2</td>\n",
       "      <td>5</td>\n",
       "      <td>3</td>\n",
       "      <td>3</td>\n",
       "      <td>2</td>\n",
       "      <td>2</td>\n",
       "      <td>2</td>\n",
       "      <td>2</td>\n",
       "      <td>5</td>\n",
       "      <td>train</td>\n",
       "      <td>1</td>\n",
       "    </tr>\n",
       "  </tbody>\n",
       "</table>\n",
       "</div>"
      ],
      "text/plain": [
       "       hours_per_week_bin  occupation_bin  msr_bin  capital_gl_bin  \\\n",
       "32556                   2               4        3               1   \n",
       "32557                   2               2        3               1   \n",
       "32558                   2               2        2               1   \n",
       "32559                   1               2        1               1   \n",
       "32560                   2               5        3               3   \n",
       "\n",
       "       race_sex_bin  education_num_bin  education_bin  workclass_bin  age_bin  \\\n",
       "32556             2                  2              2              2        2   \n",
       "32557             3                  2              2              2        4   \n",
       "32558             2                  2              2              2        4   \n",
       "32559             3                  2              2              2        1   \n",
       "32560             2                  2              2              2        5   \n",
       "\n",
       "        flag  y  \n",
       "32556  train  0  \n",
       "32557  train  1  \n",
       "32558  train  0  \n",
       "32559  train  0  \n",
       "32560  train  1  "
      ]
     },
     "execution_count": 3,
     "metadata": {},
     "output_type": "execute_result"
    }
   ],
   "source": [
    "# Transform data to integer\n",
    "\n",
    "modeling_data = data.copy()\n",
    "modeling_data.replace(regex={r'[a]. ': 1, r'[b]. ': 2,r'[c]. ': 3, r'[d]. ': 4,r'[e]. ': 5}, inplace = True)\n",
    "modeling_data.head()\n",
    "modeling_data_test = modeling_data[modeling_data.flag == 'test']\n",
    "modeling_data_train = modeling_data[modeling_data.flag == 'train']\n",
    "modeling_data_train.head()\n",
    "modeling_data_train.tail()"
   ]
  },
  {
   "cell_type": "code",
   "execution_count": 4,
   "id": "c9ecddea",
   "metadata": {},
   "outputs": [
    {
     "data": {
      "text/plain": [
       "(48842, 11)"
      ]
     },
     "execution_count": 4,
     "metadata": {},
     "output_type": "execute_result"
    }
   ],
   "source": [
    "# find the shape of data\n",
    "data.shape"
   ]
  },
  {
   "cell_type": "code",
   "execution_count": 5,
   "id": "03a16d6c",
   "metadata": {},
   "outputs": [
    {
     "data": {
      "text/plain": [
       "hours_per_week_bin         a. 0-30\n",
       "occupation_bin              a. Low\n",
       "msr_bin                     a. Low\n",
       "capital_gl_bin              a. = 0\n",
       "race_sex_bin                a. Low\n",
       "education_num_bin           a. 0-8\n",
       "education_bin               a. Low\n",
       "workclass_bin         a. no income\n",
       "age_bin                    a. 0-25\n",
       "flag                          test\n",
       "y                                0\n",
       "dtype: object"
      ]
     },
     "execution_count": 5,
     "metadata": {},
     "output_type": "execute_result"
    }
   ],
   "source": [
    "# Outliers\n",
    "data.max()\n",
    "data.min()"
   ]
  },
  {
   "cell_type": "code",
   "execution_count": 6,
   "id": "6a2e9f0c",
   "metadata": {},
   "outputs": [
    {
     "data": {
      "text/plain": [
       "hours_per_week_bin    0\n",
       "occupation_bin        0\n",
       "msr_bin               0\n",
       "capital_gl_bin        0\n",
       "race_sex_bin          0\n",
       "education_num_bin     0\n",
       "education_bin         0\n",
       "workclass_bin         0\n",
       "age_bin               0\n",
       "flag                  0\n",
       "y                     0\n",
       "dtype: int64"
      ]
     },
     "execution_count": 6,
     "metadata": {},
     "output_type": "execute_result"
    }
   ],
   "source": [
    "# find the number of null values\n",
    "data.isnull().sum()"
   ]
  },
  {
   "cell_type": "code",
   "execution_count": 7,
   "id": "d07ef431",
   "metadata": {},
   "outputs": [
    {
     "data": {
      "text/plain": [
       "hours_per_week_bin    48842\n",
       "occupation_bin        48842\n",
       "msr_bin               48842\n",
       "capital_gl_bin        48842\n",
       "race_sex_bin          48842\n",
       "education_num_bin     48842\n",
       "education_bin         48842\n",
       "workclass_bin         48842\n",
       "age_bin               48842\n",
       "flag                  48842\n",
       "y                     48842\n",
       "dtype: int64"
      ]
     },
     "execution_count": 7,
     "metadata": {},
     "output_type": "execute_result"
    }
   ],
   "source": [
    "data.describe\n",
    "data.info\n",
    "data.dtypes\n",
    "data.count()"
   ]
  },
  {
   "cell_type": "code",
   "execution_count": 8,
   "id": "56a83c56",
   "metadata": {},
   "outputs": [],
   "source": [
    "#split the dataset into feature variables and target variable\n",
    "feature_cols = ['age_bin','capital_gl_bin', 'education_bin','hours_per_week_bin',\n",
    "                'msr_bin','occupation_bin','race_sex_bin']\n",
    "X = data[feature_cols] # feature\n",
    "t = data.y # target\n",
    "\n",
    "# split dataset into training set and test set\n",
    "X_train, X_test, t_train, t_test = train_test_split(X,t,test_size = 0.3, random_state = 1) \n",
    "# 70% training and 30% testing\n",
    "\n",
    "\n",
    "#transform the type of variables from object to float\n",
    "encoder = OrdinalEncoder(cols = ['age_bin','capital_gl_bin', 'education_bin','hours_per_week_bin',\n",
    "                                 'msr_bin','occupation_bin','race_sex_bin'], \n",
    "                         handle_unknown = 'value', \n",
    "                         handle_missing = 'value').fit(X_train,t_train) \n",
    "\n",
    "X_train = encoder.transform(X_train) # training \n",
    "X_test = encoder.transform(X_test)# testing"
   ]
  },
  {
   "cell_type": "markdown",
   "id": "3ee5a521",
   "metadata": {},
   "source": [
    "# Finding Optimal Value of a key Hyper-parameter"
   ]
  },
  {
   "cell_type": "code",
   "execution_count": 9,
   "id": "1007fca3",
   "metadata": {},
   "outputs": [
    {
     "data": {
      "text/plain": [
       "<AxesSubplot:>"
      ]
     },
     "execution_count": 9,
     "metadata": {},
     "output_type": "execute_result"
    },
    {
     "data": {
      "image/png": "[encoded data removed]",
      "text/plain": [
       "<Figure size 576x288 with 1 Axes>"
      ]
     },
     "metadata": {
      "needs_background": "light"
     },
     "output_type": "display_data"
    }
   ],
   "source": [
    "results = [] # create an empty list\n",
    "max_depth_options = [2,4,6,8,10,12,14,16,18,20]\n",
    "for trees in max_depth_options:\n",
    "    model = DecisionTreeClassifier(max_depth=trees, random_state =101) # create a decision tree model\n",
    "    model.fit(X_train,t_train)\n",
    "    y_pred =model.predict(X_test) # find the model's predict value\n",
    "    accuracy=np.mean(t_test ==y_pred) # compare the test value and predict value, find the accuracy\n",
    "    results.append(accuracy) # put the value of accuracy to the empty list\n",
    "\n",
    "plt.figure(figsize=(8,4))\n",
    "pd.Series(results, max_depth_options).plot(color='darkred', marker='o')"
   ]
  },
  {
   "cell_type": "markdown",
   "id": "e8dd81b0",
   "metadata": {},
   "source": [
    "# Building a Random Forest Model"
   ]
  },
  {
   "cell_type": "code",
   "execution_count": 10,
   "id": "ad47daf5",
   "metadata": {},
   "outputs": [
    {
     "data": {
      "text/plain": [
       "<AxesSubplot:>"
      ]
     },
     "execution_count": 10,
     "metadata": {},
     "output_type": "execute_result"
    },
    {
     "data": {
      "image/png": "[encoded data removed]",
      "text/plain": [
       "<Figure size 576x288 with 1 Axes>"
      ]
     },
     "metadata": {
      "needs_background": "light"
     },
     "output_type": "display_data"
    }
   ],
   "source": [
    "results = [] # create an empty list\n",
    "n_estimator_options = [50,100,150,200,250,300,350,400,450,500]\n",
    "for trees in n_estimator_options:\n",
    "    model=RandomForestClassifier(n_estimators=trees, random_state=101) # create a random forest model\n",
    "    model.fit(X_train, t_train)\n",
    "    y_pred =model.predict(X_test) # find the model's predict value\n",
    "    accuracy =np.mean(t_test == y_pred) # compare the test and predict value, find the accuracy\n",
    "    results.append(accuracy) # put the value of accuracy to the empty list\n",
    "    \n",
    "plt.figure(figsize =(8,4))\n",
    "pd.Series(results, n_estimator_options).plot(color='darkred',marker='o')"
   ]
  },
  {
   "cell_type": "markdown",
   "id": "21681628",
   "metadata": {},
   "source": [
    "# Building AdaBoost, Gradient Boost (classifier) and XGB Model"
   ]
  },
  {
   "cell_type": "code",
   "execution_count": 12,
   "id": "442b40b7",
   "metadata": {},
   "outputs": [
    {
     "data": {
      "text/plain": [
       "<AxesSubplot:>"
      ]
     },
     "execution_count": 12,
     "metadata": {},
     "output_type": "execute_result"
    },
    {
     "data": {
      "image/png": "[encoded data removed]",
      "text/plain": [
       "<Figure size 576x288 with 1 Axes>"
      ]
     },
     "metadata": {
      "needs_background": "light"
     },
     "output_type": "display_data"
    }
   ],
   "source": [
    "results = [] # create an empty list\n",
    "n_estimator_options = [50,100,150,200,250,300,350,400,450,500]\n",
    "for trees in n_estimator_options:\n",
    "    model =AdaBoostClassifier(n_estimators = trees, random_state=101) # create a AdaBoost model\n",
    "    model.fit(X_train, t_train)\n",
    "    y_pred = model.predict(X_test) # find the model's predict value\n",
    "    accuracy =np.mean(t_test==y_pred) # compare the test and predict value, find the accuracy\n",
    "    results.append(accuracy) # put the value of accuracy to the empty list\n",
    "    \n",
    "plt.figure(figsize =(8,4))\n",
    "pd.Series(results,n_estimator_options).plot(color='darkred', marker='o')"
   ]
  },
  {
   "cell_type": "code",
   "execution_count": null,
   "id": "91aa8b6a",
   "metadata": {},
   "outputs": [],
   "source": [
    "results = [] # create an empty list\n",
    "n_estimator_options = [50,100,150,200,250,300,350,400,450,500]\n",
    "for trees in n_estimator_options:\n",
    "  model = GradientBoostingClassifier(n_estimators = trees, random_state=101) # create a Gradient boosting model\n",
    "  model.fit(X_train, t_train)\n",
    "  y_pred = model.predict(X_test) # find the model's predict value\n",
    "  accuracy = np.mean(t_test == y_pred) # compare the test and predict value, find the accuracy\n",
    "  results.append(accuracy) # put the value of accuracy to the empty  list\n",
    "\n",
    "plt.figure(figsize=(8,4))\n",
    "pd.Series(results, n_estimator_options).plot(color='darkred', marker='o')"
   ]
  },
  {
   "cell_type": "code",
   "execution_count": null,
   "id": "80a87b3e",
   "metadata": {
    "scrolled": true
   },
   "outputs": [],
   "source": [
    "results=[] # create an empty list\n",
    "n_estimator_options = [50,100,150,200,250,300,350,400,450,500]\n",
    "for trees in n_estimator_options:\n",
    "    model = XGBClassifier(n_estimators = trees, random_state = 101) # create a XGB model\n",
    "    model.fit(X_train, t_train)\n",
    "    y_pred = model.predict(X_test) # find the model's predict value\n",
    "    accuracy = np.mean(t_test==y_pred) # compare the test and predict value, find the accuracy\n",
    "    results.append(accuracy) # put the value of accuracy to the empty list\n",
    "    \n",
    "plt.figure(figsize=(8,4))\n",
    "pd.Series(results, n_estimator_options).plot(color='darkred',marker ='o')"
   ]
  },
  {
   "cell_type": "markdown",
   "id": "6ca36a3e",
   "metadata": {},
   "source": [
    "# Compare the Performance"
   ]
  },
  {
   "cell_type": "code",
   "execution_count": null,
   "id": "c6f42794",
   "metadata": {},
   "outputs": [],
   "source": [
    "n_estimator = [100]\n",
    "for trees in n_estimator:\n",
    "\n",
    "  model1 = RandomForestClassifier(n_estimators = trees, random_state = 101) #Random Forest\n",
    "  model1.fit(X_train, t_train)\n",
    "  y_pred1 = model1.predict(X_test)\n",
    "  fpr, tpr, thresholds = roc_curve(t_test, y_pred1) #sklearn.metrics.roc_curve return fpr, tpr, and thresholds\n",
    "  auc1 = auc(fpr, tpr)\n",
    "  accuracy1 = np.mean(t_test == y_pred1)\n",
    "\n",
    "  model2 = AdaBoostClassifier(n_estimators = trees, random_state = 101) #AdaBoost\n",
    "  model2.fit(X_train, t_train)\n",
    "  y_pred2 = model2.predict(X_test)\n",
    "  fpr, tpr, thresholds = roc_curve(t_test, y_pred2) #sklearn.metrics.roc_curve return fpr, tpr, and thresholds\n",
    "  auc2 = auc(fpr, tpr)\n",
    "  accuracy2 = np.mean(t_test == y_pred2)\n",
    "  \n",
    "  model3 = GradientBoostingClassifier(n_estimators = trees, random_state = 101) #Gradient Boost\n",
    "  model3.fit(X_train, t_train)\n",
    "  y_pred3 = model3.predict(X_test)\n",
    "  fpr, tpr, thresholds = roc_curve(t_test, y_pred3) #sklearn.metrics.roc_curve return fpr, tpr, and thresholds\n",
    "  auc3 = auc(fpr, tpr)\n",
    "  accuracy3 = np.mean(t_test == y_pred3)\n",
    "\n",
    "  model4 = XGBClassifier(n_estimators = trees, random_state = 101) #XGB\n",
    "  model4.fit(X_train, t_train)\n",
    "  y_pred4 = model4.predict(X_test)\n",
    "  fpr, tpr, thresholds = roc_curve(t_test, y_pred4) #sklearn.metrics.roc_curve return fpr, tpr, and thresholds\n",
    "  auc4 = auc(fpr, tpr)\n",
    "  accuracy4 = np.mean(t_test == y_pred4)"
   ]
  },
  {
   "cell_type": "code",
   "execution_count": null,
   "id": "c064d455",
   "metadata": {},
   "outputs": [],
   "source": [
    "table = {'Random Forest': (accuracy1, auc1, trees), \n",
    "          'AdaBoost': (accuracy2, auc2, trees),\n",
    "          'Gradient Boost': (accuracy3, auc3, trees),\n",
    "          'XGB': (accuracy4, auc4, trees),}\n",
    "\n",
    "  df = pd.DataFrame(table, index= ('Accuracy', 'AUC', 'Hyper-parameters'))\n",
    "  display(df)"
   ]
  }
 ],
 "metadata": {
  "kernelspec": {
   "display_name": "Python 3",
   "language": "python",
   "name": "python3"
  },
  "language_info": {
   "codemirror_mode": {
    "name": "ipython",
    "version": 3
   },
   "file_extension": ".py",
   "mimetype": "text/x-python",
   "name": "python",
   "nbconvert_exporter": "python",
   "pygments_lexer": "ipython3",
   "version": "3.8.8"
  }
 },
 "nbformat": 4,
 "nbformat_minor": 5
}
